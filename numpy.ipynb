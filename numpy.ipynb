{
 "cells": [
  {
   "cell_type": "markdown",
   "metadata": {},
   "source": [
    "Load in Numpy"
   ]
  },
  {
   "cell_type": "code",
   "execution_count": 1,
   "metadata": {},
   "outputs": [
    {
     "name": "stdout",
     "output_type": "stream",
     "text": [
      "Defaulting to user installation because normal site-packages is not writeable\n",
      "Requirement already satisfied: numpy in /Users/kranthi/Library/Python/3.9/lib/python/site-packages (2.0.2)\n",
      "\u001b[33mWARNING: You are using pip version 21.2.4; however, version 25.1.1 is available.\n",
      "You should consider upgrading via the '/Applications/Xcode.app/Contents/Developer/usr/bin/python3 -m pip install --upgrade pip' command.\u001b[0m\n",
      "Note: you may need to restart the kernel to use updated packages.\n"
     ]
    }
   ],
   "source": [
    "pip install numpy "
   ]
  },
  {
   "cell_type": "code",
   "execution_count": 2,
   "metadata": {},
   "outputs": [],
   "source": [
    "import numpy as np \n"
   ]
  },
  {
   "cell_type": "markdown",
   "metadata": {},
   "source": [
    "The Basics"
   ]
  },
  {
   "cell_type": "code",
   "execution_count": null,
   "metadata": {},
   "outputs": [
    {
     "name": "stdout",
     "output_type": "stream",
     "text": [
      "[1 2 3 4]\n"
     ]
    }
   ],
   "source": [
    "a = np.array([1,2,3,4], dtype=np.int16)\n",
    "print(a)"
   ]
  },
  {
   "cell_type": "code",
   "execution_count": 6,
   "metadata": {},
   "outputs": [
    {
     "name": "stdout",
     "output_type": "stream",
     "text": [
      "[[ 5.  6.  7.  8.]\n",
      " [ 9. 10. 11. 12.]]\n"
     ]
    }
   ],
   "source": [
    "b = np.array([[5.0,6.0,7.0,8],[9,10,11,12]])\n",
    "print(b)"
   ]
  },
  {
   "cell_type": "code",
   "execution_count": 8,
   "metadata": {},
   "outputs": [
    {
     "data": {
      "text/plain": [
       "2"
      ]
     },
     "execution_count": 8,
     "metadata": {},
     "output_type": "execute_result"
    }
   ],
   "source": [
    "a.ndim\n",
    "b.ndim"
   ]
  },
  {
   "cell_type": "code",
   "execution_count": null,
   "metadata": {},
   "outputs": [],
   "source": [
    "# Get Shape\n",
    "b.shape"
   ]
  },
  {
   "cell_type": "code",
   "execution_count": 11,
   "metadata": {},
   "outputs": [
    {
     "data": {
      "text/plain": [
       "4"
      ]
     },
     "execution_count": 11,
     "metadata": {},
     "output_type": "execute_result"
    }
   ],
   "source": [
    "# Get Size\n",
    "a.size\n"
   ]
  },
  {
   "cell_type": "code",
   "execution_count": 12,
   "metadata": {},
   "outputs": [
    {
     "data": {
      "text/plain": [
       "8"
      ]
     },
     "execution_count": 12,
     "metadata": {},
     "output_type": "execute_result"
    }
   ],
   "source": [
    "b.size"
   ]
  },
  {
   "cell_type": "code",
   "execution_count": 13,
   "metadata": {},
   "outputs": [
    {
     "data": {
      "text/plain": [
       "dtype('int64')"
      ]
     },
     "execution_count": 13,
     "metadata": {},
     "output_type": "execute_result"
    }
   ],
   "source": [
    "a.dtype"
   ]
  },
  {
   "cell_type": "code",
   "execution_count": 14,
   "metadata": {},
   "outputs": [
    {
     "data": {
      "text/plain": [
       "dtype('float64')"
      ]
     },
     "execution_count": 14,
     "metadata": {},
     "output_type": "execute_result"
    }
   ],
   "source": [
    "b.dtype"
   ]
  },
  {
   "cell_type": "code",
   "execution_count": 15,
   "metadata": {},
   "outputs": [
    {
     "ename": "SyntaxError",
     "evalue": "invalid syntax (277690117.py, line 1)",
     "output_type": "error",
     "traceback": [
      "\u001b[0;36m  Cell \u001b[0;32mIn[15], line 1\u001b[0;36m\u001b[0m\n\u001b[0;31m    Accessing/Changing Elements\u001b[0m\n\u001b[0m                       ^\u001b[0m\n\u001b[0;31mSyntaxError\u001b[0m\u001b[0;31m:\u001b[0m invalid syntax\n"
     ]
    }
   ],
   "source": [
    "Accessing/Changing Elements"
   ]
  },
  {
   "cell_type": "code",
   "execution_count": 43,
   "metadata": {},
   "outputs": [
    {
     "name": "stdout",
     "output_type": "stream",
     "text": [
      "5\n"
     ]
    }
   ],
   "source": [
    "a = np.array([[1,2,3,4], [2,3,4,5]])\n",
    "b = a[0]+a[1]\n",
    "print(a[1,3])\n"
   ]
  },
  {
   "cell_type": "code",
   "execution_count": 70,
   "metadata": {},
   "outputs": [
    {
     "name": "stdout",
     "output_type": "stream",
     "text": [
      "[[1 2 3 4]\n",
      " [2 3 4 5]\n",
      " [5 6 7 8]]\n",
      "[4 5]\n",
      "4\n"
     ]
    }
   ],
   "source": [
    "b= np.array([[1,2,3,4], [2,3,4,5], [5,6,7,8]])\n",
    "print(b)\n",
    "print(b[:2,3])  # Accessing all the elements from the first two rows and the last column\n",
    "print(b[1,-2])"
   ]
  },
  {
   "cell_type": "code",
   "execution_count": 68,
   "metadata": {},
   "outputs": [
    {
     "name": "stdout",
     "output_type": "stream",
     "text": [
      "[[[ 1  2  3  4]\n",
      "  [ 2  3  4  5]]\n",
      "\n",
      " [[ 5  6  7  8]\n",
      "  [ 9 10 11 12]]]\n",
      "4\n"
     ]
    }
   ],
   "source": [
    "c= np.array([[[1,2,3,4], [2,3,4,5]],[ [5,6,7,8], [9,10,11,12]]])\n",
    "print(c)\n",
    "print(c[0,1,2])\n"
   ]
  },
  {
   "cell_type": "code",
   "execution_count": 92,
   "metadata": {},
   "outputs": [
    {
     "data": {
      "text/plain": [
       "array([1, 3, 5])"
      ]
     },
     "execution_count": 92,
     "metadata": {},
     "output_type": "execute_result"
    }
   ],
   "source": [
    "a = np.array([1,2,3,4,5,6,7,8,9,10])\n",
    "b = a.reshape(2,5) # helps us to reshape the array one dimenstion to other\n",
    "a[1:5:7] #last segments determines the step size\n",
    "a[:5:2]"
   ]
  },
  {
   "cell_type": "code",
   "execution_count": null,
   "metadata": {},
   "outputs": [
    {
     "name": "stdout",
     "output_type": "stream",
     "text": [
      "[200   2   3   4   5   6   7   8   9  10]\n",
      "[100   2   3   4   5   6   7   8   9  10]\n",
      "[200   2   3   4   5   6   7   8   9  10]\n",
      "[200   2   3   4   5   6   7   8   9  10]\n",
      "[200   2   3   4   5   6   7   8   9  10]\n",
      "[200   2   3   4   5   6   7   8   9  10]\n"
     ]
    }
   ],
   "source": [
    "#Difference between Copy and View is that copy creates a new array and view creates a new view of the same array.\n",
    "c=a.copy()\n",
    "print(c)\n",
    "c[0]=100\n",
    "print(c)\n",
    "print(a)\n",
    "d=a.view()\n",
    "print(d)\n",
    "d[0]=200\n",
    "print(d)\n",
    "print(a)"
   ]
  },
  {
   "cell_type": "code",
   "execution_count": null,
   "metadata": {},
   "outputs": [
    {
     "name": "stdout",
     "output_type": "stream",
     "text": [
      "5\n",
      "6\n",
      "8\n",
      "9\n"
     ]
    }
   ],
   "source": [
    "arr = np.array([[1,2,3],[4,5,6],[7,8,9]])\n",
    "for i in np.nditer(arr[1:,1:]): # iterating over a sub-array\n",
    "    print(i)"
   ]
  },
  {
   "cell_type": "code",
   "execution_count": 118,
   "metadata": {},
   "outputs": [
    {
     "name": "stdout",
     "output_type": "stream",
     "text": [
      "[200   2   3   4   5   6   7   8   9  10 100   2   3   4   5   6   7   8\n",
      "   9  10]\n",
      "[[200 100]\n",
      " [  2   2]\n",
      " [  3   3]\n",
      " [  4   4]\n",
      " [  5   5]\n",
      " [  6   6]\n",
      " [  7   7]\n",
      " [  8   8]\n",
      " [  9   9]\n",
      " [ 10  10]]\n",
      "[200   2   3   4   5   6   7   8   9  10 100   2   3   4   5   6   7   8\n",
      "   9  10]\n"
     ]
    }
   ],
   "source": [
    "print(np.concatenate((a,c), axis=0))  # Concatenating two arrays along the first axis\n",
    "print(np.stack((a,c), axis=1)) # Concatenating two arrays along the second axis\n",
    "print(np.hstack((a,c)))"
   ]
  },
  {
   "cell_type": "code",
   "execution_count": 120,
   "metadata": {},
   "outputs": [
    {
     "name": "stdout",
     "output_type": "stream",
     "text": [
      "[array([200,   2,   3]), array([4, 5, 6]), array([7, 8]), array([ 9, 10])]\n"
     ]
    }
   ],
   "source": [
    "print(np.array_split(a, 4))  # Splitting the array into 3 equal parts"
   ]
  },
  {
   "cell_type": "code",
   "execution_count": 121,
   "metadata": {},
   "outputs": [
    {
     "name": "stdout",
     "output_type": "stream",
     "text": [
      "[200   2   3]\n",
      "[4 5 6]\n",
      "[7 8]\n",
      "[ 9 10]\n"
     ]
    }
   ],
   "source": [
    "for i in np.array_split(a, 4):\n",
    "    print(i)"
   ]
  },
  {
   "cell_type": "code",
   "execution_count": 126,
   "metadata": {},
   "outputs": [
    {
     "name": "stdout",
     "output_type": "stream",
     "text": [
      "(array([0, 5, 6, 7, 8, 9]),)\n"
     ]
    }
   ],
   "source": [
    "print(np.where(a > 5))  # Returns the indices where the condition is true"
   ]
  },
  {
   "cell_type": "code",
   "execution_count": 127,
   "metadata": {},
   "outputs": [
    {
     "name": "stdout",
     "output_type": "stream",
     "text": [
      "[1 0 0 0 0 1 1 1 1 1]\n"
     ]
    }
   ],
   "source": [
    "print(np.where(a > 5, 1, 0))  # Returns an array where the condition is true or false"
   ]
  },
  {
   "cell_type": "code",
   "execution_count": 128,
   "metadata": {},
   "outputs": [
    {
     "name": "stdout",
     "output_type": "stream",
     "text": [
      "4\n"
     ]
    }
   ],
   "source": [
    "print(np.searchsorted(a, 5))  # Returns the index where the value would be inserted to maintain order"
   ]
  },
  {
   "cell_type": "code",
   "execution_count": 130,
   "metadata": {},
   "outputs": [
    {
     "name": "stdout",
     "output_type": "stream",
     "text": [
      "3\n"
     ]
    }
   ],
   "source": [
    "print(np.searchsorted(a,3, side='right'))  # Returns the index where the value would be inserted to maintain order, considering duplicates"
   ]
  },
  {
   "cell_type": "code",
   "execution_count": 131,
   "metadata": {},
   "outputs": [
    {
     "name": "stdout",
     "output_type": "stream",
     "text": [
      "[2 3 4]\n"
     ]
    }
   ],
   "source": [
    "print(np.searchsorted(a,np.array([3,4,5])))  # Returns the indices for multiple values"
   ]
  },
  {
   "cell_type": "code",
   "execution_count": 132,
   "metadata": {},
   "outputs": [
    {
     "name": "stdout",
     "output_type": "stream",
     "text": [
      "[  2   3   4   5   6   7   8   9  10 200]\n"
     ]
    }
   ],
   "source": [
    "print(np.sort(a))"
   ]
  },
  {
   "cell_type": "code",
   "execution_count": 133,
   "metadata": {},
   "outputs": [
    {
     "name": "stdout",
     "output_type": "stream",
     "text": [
      "[[1 2 3]\n",
      " [4 5 6]\n",
      " [7 8 9]]\n"
     ]
    }
   ],
   "source": [
    "print(np.sort(arr))"
   ]
  },
  {
   "cell_type": "code",
   "execution_count": 139,
   "metadata": {},
   "outputs": [
    {
     "name": "stdout",
     "output_type": "stream",
     "text": [
      "[ True False False False False  True  True  True  True  True]\n"
     ]
    }
   ],
   "source": [
    "filter_arr= a>5\n",
    "print(filter_arr ) # Boolean array indicating where the condition is true"
   ]
  },
  {
   "cell_type": "code",
   "execution_count": 160,
   "metadata": {},
   "outputs": [
    {
     "name": "stdout",
     "output_type": "stream",
     "text": [
      "33\n",
      "0.3110613144099309\n",
      "[0.95167589 0.674164   0.34620917 0.24389699 0.69247846]\n",
      "[[0.25187391 0.77244259 0.07552191 0.96917652]\n",
      " [0.64375459 0.09234455 0.30645242 0.81177894]]\n",
      "[[ 0.07207379  2.86543773  0.67397685]\n",
      " [-0.51374485 -0.12506604 -2.34646854]]\n",
      "9\n",
      "[[4 7 8]\n",
      " [1 4 1]]\n",
      "[[2 4 5]\n",
      " [3 1 3]]\n",
      "[[3 5 3]\n",
      " [1 1 2]]\n",
      "[3 2 1 5 4]\n",
      "[1 5 4]\n"
     ]
    }
   ],
   "source": [
    "from numpy import random\n",
    "print(random.randint(100))  # Generates a random integer between 0 and 100\n",
    "print(random.rand()) # Generates a random float between 0 and 1\n",
    "print(random.rand(5))  # Generates an array of 5 random floats between 0 and 1\n",
    "print(random.rand(2,4))  # Generates a 2x3 array of random floats between 0 and 1\n",
    "print(random.randn(2,3))  # Generates a 2x3 array of random floats from the standard normal distribution\n",
    "print(random.randint(1,10)) # Generates a random integer between 1 and 10\n",
    "print(random.randint(1,10, size=(2,3)))  # Generates a 2x3 array of random integers between 1 and 10\n",
    "print(random.choice([1,2,3,4,5], size=(2,3)))  # Randomly selects elements from the given array\n",
    "# print(random.choice([1,2,3,4,5], size=(2,3), replace=False))  # Randomly selects elements without replacement\n",
    "print(random.choice([1,2,3,4,5], size=(2,3), p=[0.2, 0.2, 0.3, 0.2, 0.1]))  # Randomly selects elements with specified probabilities\n",
    "print(random.permutation([1,2,3,4,5]))  # Randomly permutes the elements of the array\n",
    "print(random.permutation([1,2,3,4,5])[:3])  # Randomly permutes the elements and selects the first 3"
   ]
  },
  {
   "cell_type": "code",
   "execution_count": 161,
   "metadata": {},
   "outputs": [
    {
     "data": {
      "text/plain": [
       "array([[0., 0., 0.],\n",
       "       [0., 0., 0.]])"
      ]
     },
     "execution_count": 161,
     "metadata": {},
     "output_type": "execute_result"
    }
   ],
   "source": [
    "np.zeros((2,3))  # Creates a 2x3 array of zeros"
   ]
  },
  {
   "cell_type": "code",
   "execution_count": 162,
   "metadata": {},
   "outputs": [
    {
     "data": {
      "text/plain": [
       "array([[1., 1., 1.],\n",
       "       [1., 1., 1.]])"
      ]
     },
     "execution_count": 162,
     "metadata": {},
     "output_type": "execute_result"
    }
   ],
   "source": [
    "np.ones((2,3))  # Creates a 2x3 array of ones"
   ]
  },
  {
   "cell_type": "code",
   "execution_count": 166,
   "metadata": {},
   "outputs": [
    {
     "name": "stdout",
     "output_type": "stream",
     "text": [
      "[[100 100 100]\n",
      " [100 100 100]]\n"
     ]
    },
    {
     "data": {
      "text/plain": [
       "array([[1., 0., 0.],\n",
       "       [0., 1., 0.],\n",
       "       [0., 0., 1.]])"
      ]
     },
     "execution_count": 166,
     "metadata": {},
     "output_type": "execute_result"
    }
   ],
   "source": [
    "np.full((2,3), 100)  # Creates a 2x3 array filled with the value 7\n",
    "print(np.full((2,3), 100))\n",
    "np.eye(3)  # Creates a 3x3 identity matrix"
   ]
  },
  {
   "cell_type": "code",
   "execution_count": null,
   "metadata": {},
   "outputs": [
    {
     "data": {
      "text/plain": [
       "array([4, 4, 4, 4, 4, 4, 4, 4, 4, 4])"
      ]
     },
     "execution_count": 168,
     "metadata": {},
     "output_type": "execute_result"
    }
   ],
   "source": [
    "np.full_like(a, 4) # Creates an array with the same shape as 'a' filled with the value 4"
   ]
  },
  {
   "cell_type": "code",
   "execution_count": 169,
   "metadata": {},
   "outputs": [
    {
     "data": {
      "text/plain": [
       "array([[1., 0., 0.],\n",
       "       [0., 1., 0.],\n",
       "       [0., 0., 1.]])"
      ]
     },
     "execution_count": 169,
     "metadata": {},
     "output_type": "execute_result"
    }
   ],
   "source": [
    "np.identity(3)  # Creates a 3x3 identity matrix"
   ]
  },
  {
   "cell_type": "code",
   "execution_count": 172,
   "metadata": {},
   "outputs": [
    {
     "name": "stdout",
     "output_type": "stream",
     "text": [
      "[[1. 1. 1. 1. 1.]\n",
      " [1. 1. 1. 1. 1.]\n",
      " [1. 1. 1. 1. 1.]\n",
      " [1. 1. 1. 1. 1.]\n",
      " [1. 1. 1. 1. 1.]]\n",
      "[[0. 0. 0.]\n",
      " [0. 9. 0.]\n",
      " [0. 0. 0.]]\n",
      "[[1. 1. 1. 1. 1.]\n",
      " [1. 0. 0. 0. 1.]\n",
      " [1. 0. 9. 0. 1.]\n",
      " [1. 0. 0. 0. 1.]\n",
      " [1. 1. 1. 1. 1.]]\n"
     ]
    }
   ],
   "source": [
    "output = np.ones((5,5))\n",
    "print(output)\n",
    "z = np.zeros((3,3))\n",
    "z[1,1] = 9  # Setting the center element to 9\n",
    "print(z)\n",
    "output[1:4, 1:4] = z  # Placing the 3x3 matrix in the center of the 5x5 matrix\n",
    "print(output)"
   ]
  },
  {
   "cell_type": "code",
   "execution_count": 173,
   "metadata": {},
   "outputs": [
    {
     "name": "stdout",
     "output_type": "stream",
     "text": [
      "[200   2   3   4   5   6   7   8   9  10]\n"
     ]
    }
   ],
   "source": [
    "print(a)"
   ]
  },
  {
   "cell_type": "code",
   "execution_count": 174,
   "metadata": {},
   "outputs": [
    {
     "name": "stdout",
     "output_type": "stream",
     "text": [
      "[202   4   5   6   7   8   9  10  11  12]\n"
     ]
    }
   ],
   "source": [
    "print(a+2)"
   ]
  },
  {
   "cell_type": "code",
   "execution_count": 177,
   "metadata": {},
   "outputs": [
    {
     "name": "stdout",
     "output_type": "stream",
     "text": [
      "[0 0 1 0 1 0 1 0 1 0]\n"
     ]
    }
   ],
   "source": [
    "print(a%2)"
   ]
  },
  {
   "cell_type": "markdown",
   "metadata": {},
   "source": [
    "### Linear Alzebra"
   ]
  },
  {
   "cell_type": "code",
   "execution_count": 180,
   "metadata": {},
   "outputs": [
    {
     "name": "stdout",
     "output_type": "stream",
     "text": [
      "[[1. 1. 1.]\n",
      " [1. 1. 1.]]\n",
      "[[2 2]\n",
      " [2 2]\n",
      " [2 2]]\n"
     ]
    },
    {
     "data": {
      "text/plain": [
       "array([[6., 6.],\n",
       "       [6., 6.]])"
      ]
     },
     "execution_count": 180,
     "metadata": {},
     "output_type": "execute_result"
    }
   ],
   "source": [
    "a= np.ones((2,3))\n",
    "print(a)\n",
    "b= np.full((3,2), 2)\n",
    "print(b)\n",
    "np.matmul(a, b)  # Matrix multiplication of two arrays"
   ]
  },
  {
   "cell_type": "code",
   "execution_count": 186,
   "metadata": {},
   "outputs": [
    {
     "name": "stdout",
     "output_type": "stream",
     "text": [
      "[[1. 0. 0.]\n",
      " [0. 1. 0.]\n",
      " [0. 0. 1.]]\n",
      "1.0\n",
      "[[1. 0. 0.]\n",
      " [0. 1. 0.]\n",
      " [0. 0. 1.]]\n",
      "EigResult(eigenvalues=array([1., 1., 1.]), eigenvectors=array([[1., 0., 0.],\n",
      "       [0., 1., 0.],\n",
      "       [0., 0., 1.]]))\n",
      "[1. 1. 1.]\n",
      "EighResult(eigenvalues=array([1., 1., 1.]), eigenvectors=array([[1., 0., 0.],\n",
      "       [0., 1., 0.],\n",
      "       [0., 0., 1.]]))\n",
      "SVDResult(U=array([[1., 0., 0.],\n",
      "       [0., 1., 0.],\n",
      "       [0., 0., 1.]]), S=array([1., 1., 1.]), Vh=array([[1., 0., 0.],\n",
      "       [0., 1., 0.],\n",
      "       [0., 0., 1.]]))\n"
     ]
    }
   ],
   "source": [
    "c = np.identity(3)\n",
    "print(c)\n",
    "print(np.linalg.det(c))  # Computes the determinant of the matrix\n",
    "print(np.linalg.inv(c))  # Computes the inverse of the matrix\n",
    "print(np.linalg.eig(c))  # Computes the eigenvalues and eigenvectors of the matrix\n",
    "print(np.linalg.eigvals(c))  # Computes the eigenvalues of the matrix\n",
    "print(np.linalg.eigh(c))  # Computes the eigenvalues and eigenvectors of a Hermitian matrix\n",
    "print(np.linalg.svd(c))  # Computes the singular value decomposition of the matrix"
   ]
  },
  {
   "cell_type": "markdown",
   "metadata": {},
   "source": [
    "### Statistics"
   ]
  },
  {
   "cell_type": "code",
   "execution_count": 189,
   "metadata": {},
   "outputs": [
    {
     "name": "stdout",
     "output_type": "stream",
     "text": [
      "[[1 2 3]\n",
      " [4 5 6]\n",
      " [7 8 9]]\n",
      "[4. 5. 6.]\n",
      "[2. 5. 8.]\n",
      "5.0\n",
      "[4. 5. 6.]\n",
      "[2. 5. 8.]\n",
      "2.581988897471611\n",
      "[2.44948974 2.44948974 2.44948974]\n",
      "[0.81649658 0.81649658 0.81649658]\n",
      "6.666666666666667\n",
      "[6. 6. 6.]\n",
      "[0.66666667 0.66666667 0.66666667]\n",
      "1\n",
      "[1 2 3]\n",
      "[1 4 7]\n",
      "9\n"
     ]
    }
   ],
   "source": [
    "stats = np.array([[1,2,3],[4,5,6],[7,8,9]])\n",
    "print(stats)\n",
    "np.mean(stats)  # Computes the mean of the array\n",
    "print(np.mean(stats, axis=0))  # Computes the mean along the columns\n",
    "print(np.mean(stats, axis=1))  # Computes the mean along the rows\n",
    "print(np.median(stats))  # Computes the median of the array\n",
    "print(np.median(stats, axis=0))  # Computes the median along the columns\n",
    "print(np.median(stats, axis=1))  # Computes the median along the rows\n",
    "print(np.std(stats))  # Computes the standard deviation of the array\n",
    "print(np.std(stats, axis=0))  # Computes the standard deviation along the columns\n",
    "print(np.std(stats, axis=1))  # Computes the standard deviation along the rows\n",
    "print(np.var(stats))  # Computes the variance of the array\n",
    "print(np.var(stats, axis=0))  # Computes the variance along the columns\n",
    "print(np.var(stats, axis=1))  # Computes the variance along the rows\n",
    "print(np.min(stats))  # Computes the minimum value of the array\n",
    "print(np.min(stats, axis=0))  # Computes the minimum value along the columns\n",
    "print(np.min(stats, axis=1))  # Computes the minimum value along the rows\n",
    "print(np.max(stats))  # Computes the maximum value of the array\n"
   ]
  },
  {
   "cell_type": "code",
   "execution_count": 190,
   "metadata": {},
   "outputs": [],
   "source": [
    "import matplotlib.pyplot as plt\n",
    "import seaborn as sns\n"
   ]
  },
  {
   "cell_type": "code",
   "execution_count": 196,
   "metadata": {},
   "outputs": [
    {
     "data": {
      "image/png": "[encoded data removed]",
      "text/plain": [
       "<Figure size 500x500 with 1 Axes>"
      ]
     },
     "metadata": {},
     "output_type": "display_data"
    }
   ],
   "source": [
    "sns.displot([2,34,1,2,4,1,2,4,5,6,7,8,9,10,11,12,13,14,15], kind='kde', fill=True)\n",
    "plt.show()\n"
   ]
  },
  {
   "cell_type": "code",
   "execution_count": 210,
   "metadata": {},
   "outputs": [
    {
     "name": "stdout",
     "output_type": "stream",
     "text": [
      "[[ 3.19151013 -1.50262859  4.13021091]\n",
      " [ 0.49273702  1.74174347 -0.1824533 ]]\n"
     ]
    },
    {
     "data": {
      "image/png": "[encoded data removed]",
      "text/plain": [
       "<Figure size 500x500 with 1 Axes>"
      ]
     },
     "metadata": {},
     "output_type": "display_data"
    },
    {
     "data": {
      "image/png": "[encoded data removed]",
      "text/plain": [
       "<Figure size 500x500 with 1 Axes>"
      ]
     },
     "metadata": {},
     "output_type": "display_data"
    }
   ],
   "source": [
    "x=random.normal(loc=1,scale=2,size=(2,3))\n",
    "print(x)\n",
    "sns.displot(x.flatten(), kind='kde', fill=True)\n",
    "sns.displot(random.rand(1000),kind='kde', fill=True)\n",
    "plt.show()"
   ]
  },
  {
   "cell_type": "code",
   "execution_count": null,
   "metadata": {},
   "outputs": [],
   "source": []
  }
 ],
 "metadata": {
  "kernelspec": {
   "display_name": "Python 3",
   "language": "python",
   "name": "python3"
  },
  "language_info": {
   "codemirror_mode": {
    "name": "ipython",
    "version": 3
   },
   "file_extension": ".py",
   "mimetype": "text/x-python",
   "name": "python",
   "nbconvert_exporter": "python",
   "pygments_lexer": "ipython3",
   "version": "3.9.6"
  }
 },
 "nbformat": 4,
 "nbformat_minor": 2
}
